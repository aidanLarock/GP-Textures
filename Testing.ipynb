{
 "cells": [
  {
   "cell_type": "code",
   "execution_count": 1,
   "id": "05cb160a",
   "metadata": {},
   "outputs": [],
   "source": [
    "from PIL import Image\n"
   ]
  },
  {
   "cell_type": "code",
   "execution_count": 2,
   "id": "e043b803",
   "metadata": {},
   "outputs": [],
   "source": [
    "image = Image.open(\"image/2.jpg\")\n",
    "pixels = list(image.getdata())\n",
    "(sizeX, sizeY) = (image.size[0],image.size[1])\n"
   ]
  },
  {
   "cell_type": "code",
   "execution_count": 7,
   "id": "c17ca025",
   "metadata": {},
   "outputs": [
    {
     "name": "stdout",
     "output_type": "stream",
     "text": [
      "16384\n",
      "16384\n"
     ]
    }
   ],
   "source": [
    "red = []\n",
    "for pixel in pixels:\n",
    "    red.append(pixel[0])\n",
    "print(len(red))\n",
    "print(sizeX*sizeY)"
   ]
  },
  {
   "cell_type": "code",
   "execution_count": 7,
   "id": "d82fda04",
   "metadata": {},
   "outputs": [
    {
     "data": {
      "text/plain": [
       "(128, 128)"
      ]
     },
     "execution_count": 7,
     "metadata": {},
     "output_type": "execute_result"
    }
   ],
   "source": [
    "sizeX,sizeY"
   ]
  },
  {
   "cell_type": "code",
   "execution_count": null,
   "id": "9798afa6",
   "metadata": {},
   "outputs": [],
   "source": []
  }
 ],
 "metadata": {
  "kernelspec": {
   "display_name": "Python 3 (ipykernel)",
   "language": "python",
   "name": "python3"
  },
  "language_info": {
   "codemirror_mode": {
    "name": "ipython",
    "version": 3
   },
   "file_extension": ".py",
   "mimetype": "text/x-python",
   "name": "python",
   "nbconvert_exporter": "python",
   "pygments_lexer": "ipython3",
   "version": "3.8.10"
  }
 },
 "nbformat": 4,
 "nbformat_minor": 5
}
